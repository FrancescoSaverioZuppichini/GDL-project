{
 "cells": [
  {
   "cell_type": "markdown",
   "metadata": {
    "colab_type": "text",
    "id": "bxUUcdYRfR2r"
   },
   "source": [
    "# Dynamic Graph CNN"
   ]
  },
  {
   "cell_type": "markdown",
   "metadata": {
    "colab_type": "text",
    "id": "JoxKRIT-PJlX"
   },
   "source": [
    "## Data loading\n",
    "Let's get the dataset"
   ]
  },
  {
   "cell_type": "code",
   "execution_count": 1,
   "metadata": {},
   "outputs": [],
   "source": [
    "%matplotlib notebook\n",
    "%load_ext autoreload\n",
    "%autoreload 2"
   ]
  },
  {
   "cell_type": "code",
   "execution_count": null,
   "metadata": {
    "colab": {},
    "colab_type": "code",
    "id": "mBU66FN-PNnU"
   },
   "outputs": [],
   "source": [
    "import torch\n",
    "from torch_geometric.datasets import ModelNet\n",
    "import torch_geometric.transforms as T\n",
    "import time\n",
    "from tqdm import tqdm_notebook\n",
    "\n",
    "pre_transform = T.NormalizeScale()\n",
    "transform = T.Compose([T.SamplePoints(1024),\n",
    "                       T.RandomRotate(30), \n",
    "                       T.RandomScale((0.5,2)), \n",
    "                       ])\n",
    "name = '40'\n",
    "\n",
    "train_ds = ModelNet(root='./',\n",
    "             train=True,\n",
    "             name=name,\n",
    "             pre_transform=pre_transform,\n",
    "             transform=transform)\n",
    "\n",
    "test_ds = ModelNet(root='./',\n",
    "             train=True,\n",
    "             name=name,\n",
    "             pre_transform=pre_transform,\n",
    "             transform = T.SamplePoints(1024 * 4))"
   ]
  },
  {
   "cell_type": "code",
   "execution_count": null,
   "metadata": {},
   "outputs": [],
   "source": [
    "device = torch.device('cuda:1' if torch.cuda.is_available() else 'cpu')\n",
    "device"
   ]
  },
  {
   "cell_type": "markdown",
   "metadata": {
    "colab_type": "text",
    "id": "2TwdXt99tQUh"
   },
   "source": [
    "Now we have to define our dataloader, these guys will handle the thread queue to feed the GPU"
   ]
  },
  {
   "cell_type": "code",
   "execution_count": 17,
   "metadata": {
    "colab": {},
    "colab_type": "code",
    "id": "FzDpHGpfQGGs"
   },
   "outputs": [],
   "source": [
    "from torch_geometric.data import DataLoader\n",
    "\n",
    "train_dl = DataLoader(train_ds, batch_size=32, shuffle=True)\n",
    "\n",
    "test_dl = DataLoader(test_ds, batch_size=8)"
   ]
  },
  {
   "cell_type": "markdown",
   "metadata": {
    "colab_type": "text",
    "id": "KSAivhUEWEaS"
   },
   "source": [
    "## Model\n",
    "\n",
    "Define our architecture"
   ]
  },
  {
   "cell_type": "code",
   "execution_count": 5,
   "metadata": {
    "colab": {},
    "colab_type": "code",
    "id": "7hxkdZfgWaoP"
   },
   "outputs": [],
   "source": [
    "import torch\n",
    "import torch.nn as nn\n",
    "import torch_geometric.nn as gnn\n",
    "from torch.nn import Sequential, Linear, ReLU\n",
    "from torch_geometric.nn import EdgeConv, knn_graph, global_max_pool\n",
    "from torch_geometric.nn import knn_graph\n",
    "from torch.nn import Sequential as Seq, Linear as Lin, ReLU\n",
    "import torch.nn.functional as F\n",
    "\n",
    "class DynamicEdgeConv(gnn.EdgeConv):\n",
    "    def __init__(self, k=6, *args, **kwargs):\n",
    "        super().__init__(*args, **kwargs)\n",
    "        self.k = k\n",
    "\n",
    "    def forward(self, pos, batch):\n",
    "        edge_index = knn_graph(pos, self.k, batch, loop=False)\n",
    "        return super().forward(pos, edge_index)\n",
    "\n",
    "class DGCNNClassification(nn.Module):\n",
    "  def __init__(self, in_channels, n_classes, k=20):\n",
    "    super(DGCNNClassification, self).__init__()\n",
    "\n",
    "    self.convs = nn.ModuleList([\n",
    "        DynamicEdgeConv(\n",
    "            k=k,\n",
    "            nn=Sequential(\n",
    "              Linear(in_channels * 2, 64),\n",
    "              ReLU(),\n",
    "              Linear(64, 64),\n",
    "              ReLU(),\n",
    "              Linear(64, 64),\n",
    "              ReLU()\n",
    "            ), \n",
    "            aggr='max'),\n",
    "        DynamicEdgeConv(\n",
    "            k=k,\n",
    "            nn=Sequential(\n",
    "              Linear(64 * 2, 128),\n",
    "              ReLU()\n",
    "          ), \n",
    "        aggr='max') \n",
    "    ])\n",
    "    \n",
    "    \n",
    "    self.point_wise_features2higher_dim = nn.Sequential(\n",
    "        nn.Linear(128, 512),\n",
    "        nn.ReLU()\n",
    "    )\n",
    "    \n",
    "    self.tail = nn.Sequential(\n",
    "#         nn.Linear(1024, 512),\n",
    "        nn.Linear(512, 256),\n",
    "        nn.ReLU(),\n",
    "        nn.Linear(256, n_classes),\n",
    "\n",
    "    )\n",
    "    \n",
    "    self.k = k\n",
    "    \n",
    "  def forward(self, x, batch):\n",
    "      out = x\n",
    "      for conv in self.convs:\n",
    "        out = conv(out, batch) # this could be a Sequential \n",
    "      out = self.point_wise_features2higher_dim(out)\n",
    "      out = global_max_pool(out, batch)\n",
    "      out = self.tail(out)\n",
    "      \n",
    "      return out"
   ]
  },
  {
   "cell_type": "markdown",
   "metadata": {
    "colab_type": "text",
    "id": "X9QVyWjxtZZb"
   },
   "source": [
    "## Training"
   ]
  },
  {
   "cell_type": "code",
   "execution_count": 6,
   "metadata": {},
   "outputs": [
    {
     "data": {
      "text/plain": [
       "'./model-40-1558955287.9842556'"
      ]
     },
     "execution_count": 6,
     "metadata": {},
     "output_type": "execute_result"
    }
   ],
   "source": [
    "save_dir = './model-{}-{}'.format(name, time.time())\n",
    "save_dir"
   ]
  },
  {
   "cell_type": "code",
   "execution_count": 7,
   "metadata": {},
   "outputs": [],
   "source": [
    "from torch.optim import Adam\n",
    "\n",
    "model = DGCNNClassification(3,10).to(device)\n",
    "\n",
    "\n",
    "optimizer = Adam(model.parameters(), 0.001)\n",
    "criterion = nn.CrossEntropyLoss()\n",
    "\n",
    "EPOCHS = 50"
   ]
  },
  {
   "cell_type": "code",
   "execution_count": 21,
   "metadata": {},
   "outputs": [],
   "source": [
    "def run(epochs, dl, train=True):\n",
    "    bar = tqdm_notebook(range(epochs))\n",
    "    last_acc = 0\n",
    "    \n",
    "    for epoch in bar:\n",
    "        acc_tot = 0\n",
    "        if (epoch + 1) % 10 == 0: \n",
    "            for g in optimizer.param_groups:\n",
    "                g['lr'] = g['lr'] * 0.2\n",
    "        bbar = tqdm_notebook(dl, leave=False)\n",
    "        for i, data in enumerate(bbar):\n",
    "            start = time.time()\n",
    "            if train: optimizer.zero_grad()\n",
    "            data = data.to(device)\n",
    "            out = model(data.pos, data.batch)\n",
    "            preds = torch.argmax(out, dim=-1)\n",
    "            acc = (data.y == preds).float().sum() / preds.shape[0]\n",
    "            acc_v = acc.cpu().item()\n",
    "            acc_tot += acc_v\n",
    "            loss = criterion(out, data.y)\n",
    "            if train:\n",
    "                loss.backward()\n",
    "                optimizer.step()\n",
    "            bbar.set_description('[INFO] loss={:.2f} acc={:.2f}'.format(loss, acc_v))\n",
    "        mean_acc = acc_tot / i\n",
    "        if train:\n",
    "            if mean_acc > last_acc:\n",
    "                last_acc = mean_acc\n",
    "                torch.save(model.state_dict(), save_dir)\n",
    "\n",
    "        bar.set_description('[INFO] acc={:.3f} best={:.3f}'.format(mean_acc, last_acc))"
   ]
  },
  {
   "cell_type": "code",
   "execution_count": null,
   "metadata": {
    "scrolled": true
   },
   "outputs": [],
   "source": [
    "run(40, train_dl, train=True)"
   ]
  },
  {
   "cell_type": "code",
   "execution_count": 22,
   "metadata": {
    "colab": {
     "base_uri": "https://localhost:8080/",
     "height": 476
    },
    "colab_type": "code",
    "executionInfo": {
     "elapsed": 1758276,
     "status": "error",
     "timestamp": 1557931393583,
     "user": {
      "displayName": "Fra Zuppi",
      "photoUrl": "",
      "userId": "12410559444235213734"
     },
     "user_tz": -120
    },
    "id": "xqZ344YRqNlm",
    "outputId": "aadc6f23-0145-4ba4-e91c-ae7c768706a6",
    "scrolled": false
   },
   "outputs": [
    {
     "data": {
      "application/vnd.jupyter.widget-view+json": {
       "model_id": "baa9377a101b43fd9ecdd18b6cad1656",
       "version_major": 2,
       "version_minor": 0
      },
      "text/plain": [
       "HBox(children=(IntProgress(value=0, max=1), HTML(value='')))"
      ]
     },
     "metadata": {},
     "output_type": "display_data"
    },
    {
     "data": {
      "application/vnd.jupyter.widget-view+json": {
       "model_id": "",
       "version_major": 2,
       "version_minor": 0
      },
      "text/plain": [
       "HBox(children=(IntProgress(value=0, max=499), HTML(value='')))"
      ]
     },
     "metadata": {},
     "output_type": "display_data"
    }
   ],
   "source": [
    "model = DGCNNClassification(3,10).to(device)\n",
    "model.load_state_dict(torch.load('./model-40-1558634785.3589494'))\n",
    "model.eval()\n",
    "run(1, test_dl, train=False)"
   ]
  }
 ],
 "metadata": {
  "accelerator": "GPU",
  "colab": {
   "collapsed_sections": [],
   "name": "DGCNN.ipynb",
   "provenance": [],
   "version": "0.3.2"
  },
  "kernelspec": {
   "display_name": "Python 3",
   "language": "python",
   "name": "python3"
  },
  "language_info": {
   "codemirror_mode": {
    "name": "ipython",
    "version": 3
   },
   "file_extension": ".py",
   "mimetype": "text/x-python",
   "name": "python",
   "nbconvert_exporter": "python",
   "pygments_lexer": "ipython3",
   "version": "3.7.3"
  }
 },
 "nbformat": 4,
 "nbformat_minor": 1
}
